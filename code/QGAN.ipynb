{
 "cells": [
  {
   "cell_type": "markdown",
   "metadata": {},
   "source": [
    "# Quantum Generative Adversarial Network"
   ]
  },
  {
   "cell_type": "markdown",
   "metadata": {},
   "source": [
    "## Authors\n",
    "\n",
    "\n",
    "<a href=\"https://carleton.ca/scs/people/michel-barbeau/\">Michel Barbeau</a>\n",
    "\n",
    "<a href=\"http://www-public.imtbs-tsp.eu/~garcia_a/web/\">Joaquin Garcia-Alfaro</a>\n",
    "\n",
    "Version: June 25, 2019"
   ]
  },
  {
   "cell_type": "markdown",
   "metadata": {},
   "source": [
    "We reused code from:\n",
    "\n",
    "<a href=\"http://github.com/XanaduAI/pennylane/blob/master/examples/Q3_variational-classifier.ipynb\">Example Q3 - Variational classifier - 2. Iris classification</a>\n",
    "\n",
    "<a href=\"http://github.com/XanaduAI/pennylane/blob/master/examples/Q4_quantum-GAN.ipynb\">Example Q4 - Quantum Generative Adversarial Network</a>\n",
    "\n",
    "<a href=\"https://pennylane.readthedocs.io/en/latest/tutorials/gaussian_transformation.html\">Basic tutorial: Gaussian transformation</a>"
   ]
  },
  {
   "cell_type": "markdown",
   "metadata": {},
   "source": [
    "## Preamble"
   ]
  },
  {
   "cell_type": "markdown",
   "metadata": {},
   "source": [
    "<a href=\"https://pennylane.ai/\">PennyLane</a> and other relevant packages are imported."
   ]
  },
  {
   "cell_type": "code",
   "execution_count": 1,
   "metadata": {},
   "outputs": [
    {
     "ename": "ModuleNotFoundError",
     "evalue": "No module named 'pennylane'",
     "output_type": "error",
     "traceback": [
      "\u001b[0;31m---------------------------------------------------------------------------\u001b[0m",
      "\u001b[0;31mModuleNotFoundError\u001b[0m                       Traceback (most recent call last)",
      "\u001b[0;32m<ipython-input-1-d718604e7620>\u001b[0m in \u001b[0;36m<module>\u001b[0;34m\u001b[0m\n\u001b[0;32m----> 1\u001b[0;31m \u001b[0;32mimport\u001b[0m \u001b[0mpennylane\u001b[0m \u001b[0;32mas\u001b[0m \u001b[0mqml\u001b[0m\u001b[0;34m\u001b[0m\u001b[0;34m\u001b[0m\u001b[0m\n\u001b[0m\u001b[1;32m      2\u001b[0m \u001b[0;32mfrom\u001b[0m \u001b[0mpennylane\u001b[0m \u001b[0;32mimport\u001b[0m \u001b[0mnumpy\u001b[0m \u001b[0;32mas\u001b[0m \u001b[0mnp\u001b[0m\u001b[0;34m\u001b[0m\u001b[0;34m\u001b[0m\u001b[0m\n\u001b[1;32m      3\u001b[0m \u001b[0;32mfrom\u001b[0m \u001b[0mpennylane\u001b[0m\u001b[0;34m.\u001b[0m\u001b[0moptimize\u001b[0m \u001b[0;32mimport\u001b[0m \u001b[0mGradientDescentOptimizer\u001b[0m\u001b[0;34m\u001b[0m\u001b[0;34m\u001b[0m\u001b[0m\n\u001b[1;32m      4\u001b[0m \u001b[0;32mimport\u001b[0m \u001b[0mmath\u001b[0m\u001b[0;34m\u001b[0m\u001b[0;34m\u001b[0m\u001b[0m\n\u001b[1;32m      5\u001b[0m \u001b[0;32mimport\u001b[0m \u001b[0mtime\u001b[0m\u001b[0;34m\u001b[0m\u001b[0;34m\u001b[0m\u001b[0m\n",
      "\u001b[0;31mModuleNotFoundError\u001b[0m: No module named 'pennylane'"
     ]
    }
   ],
   "source": [
    "import pennylane as qml\n",
    "from pennylane import numpy as np\n",
    "from pennylane.optimize import GradientDescentOptimizer\n",
    "import math\n",
    "import time"
   ]
  },
  {
   "cell_type": "markdown",
   "metadata": {},
   "source": [
    "## Pre-processing of Real Data"
   ]
  },
  {
   "cell_type": "markdown",
   "metadata": {},
   "source": [
    "Read the raw real data, assuming $m$ input files. Each file may contain up to $2^{6}$ single scalar values. Each line comprises a timestamp (not used), a $x$-velocity, a $y$-velocity and a $z$-velocity,"
   ]
  },
  {
   "cell_type": "code",
   "execution_count": null,
   "metadata": {
    "scrolled": true
   },
   "outputs": [],
   "source": [
    "# Number of qubits: This number determines the size of the problem, in single data\n",
    "# items, that can be handled by the program.\n",
    "num_qubits = 2 # must be greater than one, e.g., 2, 3, 4, 5 or 6\n",
    "m = 6 # number of real data files\n",
    "n = 2**num_qubits # number of real values\n",
    "real_values = np.zeros((m,n))\n",
    "for i in range(m):\n",
    "    # read all real data from one file \n",
    "    data = np.loadtxt('Parrot_Mambo_Data/realdata'+str(i)+'.txt')\n",
    "    selected_data = data[:,1:4] # omit the timestamp\n",
    "    # reshape three-column matrix into a one-rwo array\n",
    "    selected_data = selected_data.reshape(len(selected_data)*3)\n",
    "    print(\"Raw data: \",selected_data)\n",
    "    # keep the first \"n\" values\n",
    "    real_values[i][0:min(n,len(selected_data))] = \\\n",
    "        selected_data[0:min(n,len(selected_data))]\n",
    "    print(\"Raw data: \",real_values[i,:])"
   ]
  },
  {
   "cell_type": "markdown",
   "metadata": {},
   "source": [
    "We use probability amplitude encoding, which requires normalized data. Let $x_0,\\ldots,x_{n-1}$ be the real data values, their normal form is \n",
    "$$\n",
    "x_0/\\mu,\\ldots,x_{n-1}/\\mu\n",
    "$$\n",
    "where\n",
    "$$\n",
    "\\mu = \\sqrt{x_0^2 + \\ldots +x_{n-1}^2}.\n",
    "$$"
   ]
  },
  {
   "cell_type": "code",
   "execution_count": null,
   "metadata": {},
   "outputs": [],
   "source": [
    "# Normalization function\n",
    "def normalize(values):\n",
    "    mean = np.sqrt(np.sum(values ** 2))\n",
    "    return  np.array(values / mean)\n",
    "for i in range(len(real_values)):\n",
    "   real_values[i,:] = normalize(real_values[i,:]) \n",
    "   # check consistency of probability amplitudes\n",
    "   assert np.abs(1-np.sum(real_values[i,:] ** 2))<=0.0000001\n",
    "print(\"Normalized data: \",real_values)"
   ]
  },
  {
   "cell_type": "markdown",
   "metadata": {},
   "source": [
    "## Discriminator\n",
    "\n",
    "A \"num_qubit\"-qubit device is created. With probability amplitude encoding, up to $2^{\\mbox{num$\\_$qubit}}$ single scalar values can be represented in probability amplitudes in the input circuit quantum state. "
   ]
  },
  {
   "cell_type": "code",
   "execution_count": null,
   "metadata": {},
   "outputs": [],
   "source": [
    "dev = qml.device('default.qubit', wires=num_qubits)"
   ]
  },
  {
   "cell_type": "markdown",
   "metadata": {},
   "source": [
    "### Elementary Circuit Layer\n",
    "\n",
    "The parameter \"W\" is a matrix containing the rotation angles applied to the circuit. It has \"num_qubits\" rows and three colums."
   ]
  },
  {
   "cell_type": "code",
   "execution_count": null,
   "metadata": {},
   "outputs": [],
   "source": [
    "def layer(num_wires,W):\n",
    "    for i in range(num_wires):\n",
    "       qml.Rot(W[i, 0], W[i, 1], W[i, 2], wires=i)\n",
    "    for i in range(num_wires):\n",
    "        qml.CNOT(wires=[i, (i+1)%num_wires])"
   ]
  },
  {
   "cell_type": "markdown",
   "metadata": {},
   "source": [
    "### Quantum  Node for Real Data"
   ]
  },
  {
   "cell_type": "markdown",
   "metadata": {},
   "source": [
    "The first parameter, \"real_values\", is an array that contains the $n$ input real data points. The normalized input data is encoded in the amplitudes of \"num_qubits\". The second parameter \"weights\" is a matrix containing the rotation angles applied to the rotation gates. The matrix has one row per layer and \"num_qubits\" columns. The wire 0 is the output of the circuit. The output ranges in the continuous interval +1 down to -1, respectively corresponding to qubits $\\vert 0 \\rangle$ and $\\vert 1 \\rangle$. Intermediate values represent superpositions of qubits $\\vert 0 \\rangle$ and $\\vert 1 \\rangle$. The optimizer aims at finding rotation angles such that the output of the circuit is approaching $+1$, which corresponds to qubit $\\vert 0 \\rangle$."
   ]
  },
  {
   "cell_type": "code",
   "execution_count": null,
   "metadata": {},
   "outputs": [],
   "source": [
    "@qml.qnode(dev)\n",
    "def real_disc_circuit(real_values,weights):\n",
    "    # initialize the input state real data\n",
    "    qml.QubitStateVector(real_values,wires=range(num_qubits))\n",
    "    # assign weights to layers\n",
    "    for W in weights:\n",
    "        layer(num_qubits,W)\n",
    "    # measure \n",
    "    return qml.expval.PauliZ(0)"
   ]
  },
  {
   "cell_type": "markdown",
   "metadata": {},
   "source": [
    "## Generator\n",
    "\n",
    "The generator produces fake data with entropy, i.e., with uncertainty.\n",
    "\n",
    "The fake data can be generated by a qubit-quantum circuit, but it is not usable for perpetrating attacks in the classical data world. Qubit-quantum circuits cannot generate continuous-domain classical data.\n",
    "\n",
    "The generator is built using photonic quantum computing and a circuit containing only Gaussian operations that can generate data in a continuous domain. \n",
    "\n",
    "A photonic quantum computing Gaussian device is created:"
   ]
  },
  {
   "cell_type": "code",
   "execution_count": null,
   "metadata": {},
   "outputs": [],
   "source": [
    "dev_gaussian = qml.device('default.gaussian', wires=2**num_qubits)"
   ]
  },
  {
   "cell_type": "markdown",
   "metadata": {},
   "source": [
    "### Construction of Photonic Quantum Node\n",
    "\n",
    "The input on each wire is the vacuum state $\\vert 0  >$, i.e., no photon on the wire. The first gate is a displacement gate, with parameter $\\alpha$, that phase shift the qumod. The parameter $\\alpha$ is a specified in the polar form, as a magnitude (mag_alpha) and as an angle (phase_alpha). This is an active transformation that modifies the photonic energy of the system.\n",
    "\n",
    "The second gate rotate the qumode by an angle $\\phi$. The measured mean number of photons is $< \\hat{a}{\\dagger} \\hat{a}>$, i.e., the average number of photons in the final state."
   ]
  },
  {
   "cell_type": "code",
   "execution_count": null,
   "metadata": {},
   "outputs": [],
   "source": [
    "@qml.qnode(dev_gaussian)\n",
    "def mean_photon_gaussian(weights):\n",
    "    for i in range(n):\n",
    "        qml.Displacement(weights[i][0],weights[i][1], wires=i)\n",
    "        qml.Rotation(weights[i][2], wires=i)\n",
    "    #qml.Displacement(params[0][0],params[0][1], wires=1)\n",
    "    #qml.Rotation(params[0][2], wires=1)\n",
    "    # return expected numbers of photons on every wire in the final state\n",
    "    return [qml.expval.MeanPhoton(i) for i in range(2**num_qubits)]"
   ]
  },
  {
   "cell_type": "markdown",
   "metadata": {},
   "source": [
    "Using arbitrary displacement and rotation, verify the generator circuit:"
   ]
  },
  {
   "cell_type": "code",
   "execution_count": null,
   "metadata": {},
   "outputs": [],
   "source": [
    "init_params = 0.1*np.ones([n,3],dtype=float)\n",
    "mean_photon_gaussian(init_params)"
   ]
  },
  {
   "cell_type": "markdown",
   "metadata": {},
   "source": [
    "## Cost\n",
    "\n",
    "### Probability of Correctly Classifying Real Data\n",
    "\n",
    "The output of the discriminator $r$\n",
    "is a value in the continuous interval $+1$ down to $−1$, coreesponding to |0⟩ and |1⟩. The output is interpreted as follows. When the output is $+1$, the data is accepted as rrue. When it is −1, the data is rejected and considered fake. The output $r$ is converted to a probability value, in the interval $[0,1]$, using the following conversion:\n",
    "$$p_R=\\frac{r+1}{2}.$$\n",
    "This is called the probability of real true. Parameter \"values\" is an array of $n$ normalized data points. Parameter \"disc_weights\" is a matrix of angles used in the discriminator circuit."
   ]
  },
  {
   "cell_type": "code",
   "execution_count": null,
   "metadata": {},
   "outputs": [],
   "source": [
    "def prob_real_true(real_values,disc_weights):\n",
    "    # get measurement\n",
    "    r = real_disc_circuit(real_values,disc_weights)\n",
    "    assert(r>=-1 and r<=1)\n",
    "    # convert \"r\" to a probability\n",
    "    p = (r + 1) / 2\n",
    "    assert(p>=0 and r<=1)\n",
    "    return p"
   ]
  },
  {
   "cell_type": "markdown",
   "metadata": {},
   "source": [
    "### Probability of Incorrectly Classifying Fake Data\n",
    "\n",
    "Similarly, the probability of fake true $p_F$ is calculated using fake values."
   ]
  },
  {
   "cell_type": "code",
   "execution_count": null,
   "metadata": {},
   "outputs": [],
   "source": [
    "def prob_fake_true(fake_values,disc_weights):\n",
    "    # get measurement\n",
    "    r = real_disc_circuit(fake_values,disc_weights)\n",
    "    assert(r>=-1 and r<=1)\n",
    "    # convert \"r\" to a probability\n",
    "    p = (r + 1) / 2\n",
    "    assert(p>=0 and r<=1)\n",
    "    return p"
   ]
  },
  {
   "cell_type": "markdown",
   "metadata": {},
   "source": [
    "### Discriminator Cost Function\n",
    "\n",
    "The discriminator aims to maximize the probability $p_R$\n",
    "of accepting true data while minimizing the probability $p_F$ of accepting fake data. During the optimization of the discriminator, the optimizer, being gradient descent, tries to minimize the cost represented by the term $p_F−p_R$."
   ]
  },
  {
   "cell_type": "code",
   "execution_count": null,
   "metadata": {},
   "outputs": [],
   "source": [
    "def disc_cost(fake_values,real_values,disc_weights):\n",
    "    cost = prob_fake_true(fake_values,disc_weights) - \\\n",
    "        prob_real_true(real_values,disc_weights)\n",
    "    return cost"
   ]
  },
  {
   "cell_type": "markdown",
   "metadata": {},
   "source": [
    "### Generator Cost Function\n",
    "\n",
    "Using a Gaussian device, displacement and rotation angle pairs (in \"params\") are applied successively to the photonic quantum node. The expected numbers of output photons are measured for each case. Measurement results are stored into variable \"fake_values\". There is one fake value per probability amplitude, i.e., $2^{6}$.\n",
    "\n",
    "The fake values are normalized and applied to the discriminator circuit, using the rotation angles determined during its optimization."
   ]
  },
  {
   "cell_type": "code",
   "execution_count": null,
   "metadata": {},
   "outputs": [],
   "source": [
    "def gen_cost(params,disc_weights):\n",
    "    # calculate expected number of photons\n",
    "    fake_values = mean_photon_gaussian(params)\n",
    "    # normalize fake values\n",
    "    norm_fake_values = normalize(fake_values)\n",
    "    assert np.abs(1-np.sum(norm_fake_values ** 2))<=0.0000001\n",
    "    # determine the probability of recognizing them as true values\n",
    "    cost = - prob_fake_true(norm_fake_values,disc_weights)\n",
    "    return cost"
   ]
  },
  {
   "cell_type": "markdown",
   "metadata": {},
   "source": [
    "### Initial Circuit Values"
   ]
  },
  {
   "cell_type": "markdown",
   "metadata": {},
   "source": [
    "The discriminator circuit is initialized with random rotation angles contained in variable \"disc_weights\"."
   ]
  },
  {
   "cell_type": "code",
   "execution_count": null,
   "metadata": {},
   "outputs": [],
   "source": [
    "np.random.seed(0)\n",
    "num_layers = 2\n",
    "# discriminator weights\n",
    "disc_weights = 0.01 * np.random.randn(num_layers, num_qubits, 3)\n",
    "# test the discriminator circuit\n",
    "r = real_disc_circuit(real_values[0],disc_weights)\n",
    "assert(r>=-1 and r<=1)\n",
    "print(\"Discriminator expectation (test mode): \", r)"
   ]
  },
  {
   "cell_type": "markdown",
   "metadata": {},
   "source": [
    "Create random fake values for discriminator training purposes."
   ]
  },
  {
   "cell_type": "code",
   "execution_count": null,
   "metadata": {
    "scrolled": true
   },
   "outputs": [],
   "source": [
    "fake_values =  0.01 * np.random.randn(n)\n",
    "# normalized fake values\n",
    "norm_fake_values = normalize(fake_values)\n",
    "# check consistency of probability amplitudes\n",
    "assert np.abs(1-np.sum(norm_fake_values ** 2))<=0.0000001\n",
    "print(\"Normalized fake data: \",norm_fake_values)"
   ]
  },
  {
   "cell_type": "markdown",
   "metadata": {},
   "source": [
    "Verify cost function:"
   ]
  },
  {
   "cell_type": "code",
   "execution_count": null,
   "metadata": {},
   "outputs": [],
   "source": [
    "# generator weights\n",
    "gen_weights = 0.1*np.ones([n,3],dtype=float)\n",
    "gen_cost(gen_weights,disc_weights)"
   ]
  },
  {
   "cell_type": "markdown",
   "metadata": {},
   "source": [
    "## Discriminator Optimization\n",
    "\n",
    "The outcome of the optimization of the discriminator is a matrix of rotation angles (weights) actualizing the discriminator circuit such that the probability that real data is recognized as true is maximized while the probability that fake data is recognized as true is minimized."
   ]
  },
  {
   "cell_type": "code",
   "execution_count": null,
   "metadata": {},
   "outputs": [],
   "source": [
    "print(\"Discriminator optimization...\")\n",
    "steps = 50\n",
    "# get start time\n",
    "start = time.time()\n",
    "# create the optimizer\n",
    "opt = GradientDescentOptimizer(0.1)\n",
    "for i in range(steps):\n",
    "    # pick a random sample\n",
    "    j = np.random.randint(0,len(real_values))\n",
    "    disc_weights = opt.step(lambda v: disc_cost(fake_values,real_values[j,:],v),disc_weights)\n",
    "    cost = disc_cost(fake_values,real_values[j,:],disc_weights)\n",
    "    #if i % 5 == 0:\n",
    "        #print(\"Step {}: cost = {}\".format(i+1, cost))\n",
    "# get time taken \n",
    "elapsed_time = time.time()-start \n",
    "print(\"Execution time: \", elapsed_time, \" ms\")\n",
    "p_R = prob_real_true(real_values[0,:],disc_weights)\n",
    "assert(p_R>=0 and p_R<=1)\n",
    "print(\"Probability of real true: \", p_R)\n",
    "p_F = prob_fake_true(fake_values,disc_weights)\n",
    "print(\"Probability of fake true (random data): \", p_F)"
   ]
  },
  {
   "cell_type": "markdown",
   "metadata": {},
   "source": [
    "## Generator Optimization\n",
    "\n",
    "Perform gradient descent optimization iterations:"
   ]
  },
  {
   "cell_type": "code",
   "execution_count": null,
   "metadata": {},
   "outputs": [],
   "source": [
    "print(\"Generator optimization...\")\n",
    "steps = 50\n",
    "# get start time\n",
    "start = time.time()# initialize the optimizer\n",
    "opt = qml.GradientDescentOptimizer(stepsize=0.1)\n",
    "for i in range(steps):\n",
    "    # update the circuit parameters\n",
    "    gen_weights = opt.step(lambda v: gen_cost(v,disc_weights),gen_weights)\n",
    "    cost = gen_cost(gen_weights,disc_weights)\n",
    "    #if i % 5 == 0:\n",
    "    # print(\"Step {}: cost = {}\".format(i+1, cost))\n",
    "# get time taken \n",
    "elapsed_time = time.time()-start \n",
    "print(\"Execution time: \", elapsed_time, \" ms\")\n",
    "print(\"Probability of real true: \", -cost)"
   ]
  }
 ],
 "metadata": {
  "kernelspec": {
   "display_name": "Python 3",
   "language": "python",
   "name": "python3"
  },
  "language_info": {
   "codemirror_mode": {
    "name": "ipython",
    "version": 3
   },
   "file_extension": ".py",
   "mimetype": "text/x-python",
   "name": "python",
   "nbconvert_exporter": "python",
   "pygments_lexer": "ipython3",
   "version": "3.7.3"
  }
 },
 "nbformat": 4,
 "nbformat_minor": 2
}
